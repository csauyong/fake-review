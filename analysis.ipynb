{
 "cells": [
  {
   "cell_type": "markdown",
   "metadata": {},
   "source": [
    "# Fake Movie Review Detection"
   ]
  },
  {
   "cell_type": "markdown",
   "metadata": {},
   "source": [
    "Several machine learning algorithms are applied to classify the movie reviews into genuine reviews and fake reviews. The proposed classification algorithms include Naive Bayes, Decision Tree, SVM, KNN and K* algorithms. Using the result of classification, the confusion matrix can be drawn. We will compare the confusion and the metrics of classification result using different algorithms. Since our dataset is class-balanced, all of accuracy, precision and recall are useful metrics in evaluation. \n",
    "\n",
    "Comparing the performance of different supervised learning algorithms, we will apply the top-performing algorithms on real-life unlabelled reviews to evaluate whether it can identify fake movie reviews effectively."
   ]
  },
  {
   "cell_type": "markdown",
   "metadata": {},
   "source": []
  }
 ],
 "metadata": {
  "kernelspec": {
   "display_name": "Python 3.8.13 ('base')",
   "language": "python",
   "name": "python3"
  },
  "language_info": {
   "name": "python",
   "version": "3.8.13"
  },
  "orig_nbformat": 4,
  "vscode": {
   "interpreter": {
    "hash": "6c2e57f8e1dbe387e8caf8701b16e1cf6f99208bbc5713d52a8566c5112b711d"
   }
  }
 },
 "nbformat": 4,
 "nbformat_minor": 2
}
