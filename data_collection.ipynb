{
 "cells": [
  {
   "cell_type": "markdown",
   "metadata": {},
   "source": [
    "# Fake Movie Review Generation"
   ]
  },
  {
   "cell_type": "markdown",
   "metadata": {},
   "source": [
    "To build the dataset, we will first scrape reviews of Joker, a 2019 film whose reviews are abundant and diverse in opinion, from professional critics on Rotten Tomatoes using Selenium. The collected reviews will be labelled as genuine since the identity of the critics are verified and highly credible. We then pass the genuine reviews collected into a text generation AI, namely GPT-2, to produce fake reviews while preserving the positive-negative ratio. We will eventually obtain a class-balanced dataset with half genuine and half fake reviews, where each record contains the review text and an indicator of whether it likes the movie."
   ]
  },
  {
   "cell_type": "markdown",
   "metadata": {},
   "source": [
    "## Scrape Reviews"
   ]
  },
  {
   "cell_type": "code",
   "execution_count": 2,
   "metadata": {},
   "outputs": [
    {
     "name": "stdout",
     "output_type": "stream",
     "text": [
      "hello\n"
     ]
    }
   ],
   "source": []
  },
  {
   "cell_type": "code",
   "execution_count": null,
   "metadata": {},
   "outputs": [],
   "source": []
  },
  {
   "cell_type": "markdown",
   "metadata": {},
   "source": []
  }
 ],
 "metadata": {
  "kernelspec": {
   "display_name": "Python 3.8.13 ('base')",
   "language": "python",
   "name": "python3"
  },
  "language_info": {
   "codemirror_mode": {
    "name": "ipython",
    "version": 3
   },
   "file_extension": ".py",
   "mimetype": "text/x-python",
   "name": "python",
   "nbconvert_exporter": "python",
   "pygments_lexer": "ipython3",
   "version": "3.8.13"
  },
  "orig_nbformat": 4,
  "vscode": {
   "interpreter": {
    "hash": "6c2e57f8e1dbe387e8caf8701b16e1cf6f99208bbc5713d52a8566c5112b711d"
   }
  }
 },
 "nbformat": 4,
 "nbformat_minor": 2
}
